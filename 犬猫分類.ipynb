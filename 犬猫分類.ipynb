{
  "nbformat": 4,
  "nbformat_minor": 0,
  "metadata": {
    "colab": {
      "name": "犬猫分類.ipynb",
      "provenance": [],
      "authorship_tag": "ABX9TyNunNZYc1S+ZUaEvbrckL1H",
      "include_colab_link": true
    },
    "kernelspec": {
      "name": "python3",
      "display_name": "Python 3"
    },
    "accelerator": "GPU"
  },
  "cells": [
    {
      "cell_type": "markdown",
      "metadata": {
        "id": "view-in-github",
        "colab_type": "text"
      },
      "source": [
        "<a href=\"https://colab.research.google.com/github/lmlucania/CNN/blob/master/%E7%8A%AC%E7%8C%AB%E5%88%86%E9%A1%9E.ipynb\" target=\"_parent\"><img src=\"https://colab.research.google.com/assets/colab-badge.svg\" alt=\"Open In Colab\"/></a>"
      ]
    },
    {
      "cell_type": "code",
      "metadata": {
        "id": "Sp1w__9qJUKr",
        "colab_type": "code",
        "colab": {}
      },
      "source": [
        "import torch\n",
        "import torch.nn as nn\n",
        "import torch.optim as optim\n",
        "import torchvision\n",
        "from torchvision import transforms\n",
        "from torch.utils.data import DataLoader, Dataset, ConcatDataset\n",
        "from PIL import Image\n",
        "import numpy as np\n",
        "import matplotlib.pyplot as plt\n",
        "import os\n",
        "import random"
      ],
      "execution_count": 1,
      "outputs": []
    },
    {
      "cell_type": "code",
      "metadata": {
        "id": "qy7ONfXrLXqY",
        "colab_type": "code",
        "colab": {
          "base_uri": "https://localhost:8080/",
          "height": 34
        },
        "outputId": "91f0f5b7-6f04-479d-ecad-d93ff3b71cfb"
      },
      "source": [
        "from google.colab import drive\n",
        "drive.mount('/content/drive')"
      ],
      "execution_count": 2,
      "outputs": [
        {
          "output_type": "stream",
          "text": [
            "Drive already mounted at /content/drive; to attempt to forcibly remount, call drive.mount(\"/content/drive\", force_remount=True).\n"
          ],
          "name": "stdout"
        }
      ]
    },
    {
      "cell_type": "code",
      "metadata": {
        "id": "sg3WYgX5BslT",
        "colab_type": "code",
        "colab": {
          "base_uri": "https://localhost:8080/",
          "height": 34
        },
        "outputId": "dd6e055e-1194-4151-f891-cf45688bdd5b"
      },
      "source": [
        "%cd \"drive/My Drive/Data\""
      ],
      "execution_count": 3,
      "outputs": [
        {
          "output_type": "stream",
          "text": [
            "/content/drive/My Drive/Data\n"
          ],
          "name": "stdout"
        }
      ]
    },
    {
      "cell_type": "code",
      "metadata": {
        "id": "DkJAS2APOojb",
        "colab_type": "code",
        "colab": {
          "base_uri": "https://localhost:8080/",
          "height": 34
        },
        "outputId": "a995c70d-8d0b-4ee4-be6b-f3a43d1a2f79"
      },
      "source": [
        "%ls"
      ],
      "execution_count": 4,
      "outputs": [
        {
          "output_type": "stream",
          "text": [
            "\u001b[0m\u001b[01;34mtest\u001b[0m/  \u001b[01;34mtrain\u001b[0m/\n"
          ],
          "name": "stdout"
        }
      ]
    },
    {
      "cell_type": "code",
      "metadata": {
        "id": "iMdBL9JVBu4C",
        "colab_type": "code",
        "colab": {}
      },
      "source": [
        "#ファイル内のデータのリストを取得\n",
        "file_list = os.listdir(\"./train\")\n",
        "random.shuffle(file_list)\n"
      ],
      "execution_count": 5,
      "outputs": []
    },
    {
      "cell_type": "code",
      "metadata": {
        "id": "-hKNJW6PCjgg",
        "colab_type": "code",
        "colab": {
          "base_uri": "https://localhost:8080/",
          "height": 34
        },
        "outputId": "17d2e669-519f-47d6-ceeb-61dd9e026b50"
      },
      "source": [
        "cat_train_files = []\n",
        "cat_validation_files = []\n",
        "dog_train_files = []\n",
        "dog_validation_files = []\n",
        "for file_name in file_list:\n",
        "    if len(cat_train_files) < 1000 and \"cat\" in file_name:\n",
        "        cat_train_files.append(file_name)\n",
        "    elif len(cat_validation_files) < 100 and \"cat\" in file_name:\n",
        "        cat_validation_files.append(file_name)    \n",
        "    elif len(dog_train_files) < 1000:\n",
        "        dog_train_files.append(file_name)\n",
        "    elif len(dog_validation_files) < 100:\n",
        "        dog_validation_files.append(file_name)\n",
        "    elif len(dog_validation_files) >= 100 and len(cat_validation_files) >= 100:\n",
        "        break\n",
        "len(cat_train_files)\n",
        "\n"
      ],
      "execution_count": 6,
      "outputs": [
        {
          "output_type": "execute_result",
          "data": {
            "text/plain": [
              "1000"
            ]
          },
          "metadata": {
            "tags": []
          },
          "execution_count": 6
        }
      ]
    },
    {
      "cell_type": "code",
      "metadata": {
        "id": "Slx9aZrLDKyg",
        "colab_type": "code",
        "colab": {}
      },
      "source": [
        "train_transform = transforms.Compose([\n",
        "    transforms.Resize((128, 128)),\n",
        "    transforms.RandomHorizontalFlip(),\n",
        "    transforms.ColorJitter(),\n",
        "    transforms.RandomRotation(20),\n",
        "    transforms.ToTensor(),\n",
        "    transforms.Normalize((0.5,), (0.5,))\n",
        "])\n",
        "validation_transform = transforms.Compose([\n",
        "    transforms.Resize((128, 128)),\n",
        "    transforms.ToTensor(),\n",
        "    transforms.Normalize((0.5,), (0.5,))\n",
        "])"
      ],
      "execution_count": 7,
      "outputs": []
    },
    {
      "cell_type": "code",
      "metadata": {
        "id": "bZzVrO5dDM1H",
        "colab_type": "code",
        "colab": {}
      },
      "source": [
        "class CatDogDataset(Dataset):\n",
        "    def __init__(self, file_list, dir, transform=None):\n",
        "        self.file_list = file_list\n",
        "        self.dir = dir\n",
        "        self.transform = transform\n",
        "        if \"dog\" in self.file_list[0]:\n",
        "            self.label = 0\n",
        "        else:\n",
        "            self.label = 1\n",
        "    def __len__(self):\n",
        "        return len(self.file_list)\n",
        "    def __getitem__(self, idx):\n",
        "        file_path = os.path.join(self.dir, self.file_list[idx])\n",
        "        img = Image.open(file_path)\n",
        "        if self.transform is not None:\n",
        "            img = self.transform(img)\n",
        "        return img, self.label\n"
      ],
      "execution_count": 8,
      "outputs": []
    },
    {
      "cell_type": "code",
      "metadata": {
        "id": "S6JmWRaMPiWg",
        "colab_type": "code",
        "colab": {}
      },
      "source": [
        "cat_train_dataset = CatDogDataset(cat_train_files, \"train/\", transform=train_transform)\n",
        "dog_train_dataset = CatDogDataset(dog_train_files, \"train/\", transform=train_transform)\n",
        "cat_validation_dataset = CatDogDataset(cat_validation_files, \"train/\", transform=validation_transform)\n",
        "dog_validation_dataset = CatDogDataset(dog_validation_files, \"train/\", transform=validation_transform)"
      ],
      "execution_count": 9,
      "outputs": []
    },
    {
      "cell_type": "code",
      "metadata": {
        "id": "pj62XmSgQKtq",
        "colab_type": "code",
        "colab": {}
      },
      "source": [
        "train_dataset = ConcatDataset([dog_train_dataset, cat_train_dataset])\n",
        "validation_dataset = ConcatDataset([cat_validation_dataset, dog_validation_dataset])"
      ],
      "execution_count": 10,
      "outputs": []
    },
    {
      "cell_type": "code",
      "metadata": {
        "id": "M5WFQFiHr8nK",
        "colab_type": "code",
        "colab": {}
      },
      "source": [
        "num_batches = 100"
      ],
      "execution_count": 11,
      "outputs": []
    },
    {
      "cell_type": "code",
      "metadata": {
        "id": "71ZOP4JJQVxx",
        "colab_type": "code",
        "colab": {}
      },
      "source": [
        "train_dataloader = DataLoader(train_dataset, batch_size=num_batches, shuffle=True)\n",
        "validation_dataloader = DataLoader(validation_dataset, batch_size=num_batches, shuffle=False)"
      ],
      "execution_count": 12,
      "outputs": []
    },
    {
      "cell_type": "code",
      "metadata": {
        "id": "ZHyI84LtRXK7",
        "colab_type": "code",
        "colab": {}
      },
      "source": [
        "data_iter = iter(train_dataloader)"
      ],
      "execution_count": 13,
      "outputs": []
    },
    {
      "cell_type": "code",
      "metadata": {
        "id": "B6vX5-3rlAXm",
        "colab_type": "code",
        "colab": {}
      },
      "source": [
        "imgs, labels = data_iter.next()"
      ],
      "execution_count": 14,
      "outputs": []
    },
    {
      "cell_type": "code",
      "metadata": {
        "id": "5BQOn1nZRjp0",
        "colab_type": "code",
        "colab": {
          "base_uri": "https://localhost:8080/",
          "height": 102
        },
        "outputId": "5d218413-82aa-4b21-97b6-4b746db88438"
      },
      "source": [
        "labels"
      ],
      "execution_count": 15,
      "outputs": [
        {
          "output_type": "execute_result",
          "data": {
            "text/plain": [
              "tensor([1, 1, 1, 1, 1, 1, 0, 1, 1, 0, 0, 0, 0, 1, 1, 0, 0, 1, 0, 0, 1, 0, 1, 1,\n",
              "        0, 0, 0, 0, 1, 0, 1, 0, 0, 1, 0, 0, 0, 0, 0, 0, 1, 1, 1, 1, 1, 0, 0, 0,\n",
              "        1, 1, 0, 0, 0, 0, 1, 1, 1, 0, 1, 1, 0, 0, 0, 0, 0, 1, 0, 1, 1, 1, 1, 1,\n",
              "        0, 1, 0, 0, 0, 1, 1, 0, 1, 1, 0, 1, 1, 0, 1, 0, 1, 0, 0, 0, 1, 1, 1, 1,\n",
              "        0, 1, 0, 1])"
            ]
          },
          "metadata": {
            "tags": []
          },
          "execution_count": 15
        }
      ]
    },
    {
      "cell_type": "code",
      "metadata": {
        "id": "l5_89LVoRCnO",
        "colab_type": "code",
        "colab": {
          "base_uri": "https://localhost:8080/",
          "height": 34
        },
        "outputId": "5d6e44b7-1562-4a6b-f537-e59c32fe6ec8"
      },
      "source": [
        "imgs.size()"
      ],
      "execution_count": 16,
      "outputs": [
        {
          "output_type": "execute_result",
          "data": {
            "text/plain": [
              "torch.Size([100, 3, 128, 128])"
            ]
          },
          "metadata": {
            "tags": []
          },
          "execution_count": 16
        }
      ]
    },
    {
      "cell_type": "code",
      "metadata": {
        "id": "pYV8urFci0ne",
        "colab_type": "code",
        "colab": {
          "base_uri": "https://localhost:8080/",
          "height": 302
        },
        "outputId": "92382924-e736-40de-fc0a-81943618d4c2"
      },
      "source": [
        "#チャネルラスト\n",
        "img_permute = imgs[-1].permute(1, 2, 0)\n",
        "plt.imshow(img_permute)"
      ],
      "execution_count": 17,
      "outputs": [
        {
          "output_type": "stream",
          "text": [
            "Clipping input data to the valid range for imshow with RGB data ([0..1] for floats or [0..255] for integers).\n"
          ],
          "name": "stderr"
        },
        {
          "output_type": "execute_result",
          "data": {
            "text/plain": [
              "<matplotlib.image.AxesImage at 0x7f059ddb0710>"
            ]
          },
          "metadata": {
            "tags": []
          },
          "execution_count": 17
        },
        {
          "output_type": "display_data",
          "data": {
            "image/png": "[encoded data removed]",
            "text/plain": [
              "<Figure size 432x288 with 1 Axes>"
            ]
          },
          "metadata": {
            "tags": [],
            "needs_background": "light"
          }
        }
      ]
    },
    {
      "cell_type": "code",
      "metadata": {
        "id": "YXqZuqThkDt_",
        "colab_type": "code",
        "colab": {
          "base_uri": "https://localhost:8080/",
          "height": 34
        },
        "outputId": "5c889b29-20fd-4dcd-a5df-efa866d640cb"
      },
      "source": [
        "labels[0]"
      ],
      "execution_count": 18,
      "outputs": [
        {
          "output_type": "execute_result",
          "data": {
            "text/plain": [
              "tensor(1)"
            ]
          },
          "metadata": {
            "tags": []
          },
          "execution_count": 18
        }
      ]
    },
    {
      "cell_type": "code",
      "metadata": {
        "id": "clvd7uuNmEKD",
        "colab_type": "code",
        "colab": {}
      },
      "source": [
        "class CNN(nn.Module):\n",
        "    def __init__(self, num_classes):\n",
        "        super().__init__()\n",
        "        self.features = nn.Sequential(\n",
        "            nn.Conv2d(in_channels=3, out_channels=64, kernel_size=5, padding=2),\n",
        "            nn.ReLU(inplace=True),\n",
        "            nn.MaxPool2d(kernel_size=2),\n",
        "            nn.Conv2d(in_channels=64, out_channels=128, kernel_size=3, padding=1),\n",
        "            nn.ReLU(inplace=True),\n",
        "            nn.MaxPool2d(kernel_size=2),\n",
        "            nn.Conv2d(in_channels=128, out_channels=256, kernel_size=3, padding=1),\n",
        "            nn.ReLU(inplace=True),\n",
        "        )\n",
        "        self.classifier = nn.Linear(in_features=32*32*256, out_features=num_classes)\n",
        "\n",
        "    def forward(self, x):\n",
        "        x = self.features(x)\n",
        "        x = x.view(x.size(0), -1)\n",
        "        x = self.classifier(x)\n",
        "        return x\n",
        "        "
      ],
      "execution_count": 19,
      "outputs": []
    },
    {
      "cell_type": "code",
      "metadata": {
        "id": "p_Et5ZsXoGK9",
        "colab_type": "code",
        "colab": {
          "base_uri": "https://localhost:8080/",
          "height": 238
        },
        "outputId": "17021817-647b-469f-fe8c-b3320dbb0923"
      },
      "source": [
        "model = CNN(2)\n",
        "model.cuda()"
      ],
      "execution_count": 20,
      "outputs": [
        {
          "output_type": "execute_result",
          "data": {
            "text/plain": [
              "CNN(\n",
              "  (features): Sequential(\n",
              "    (0): Conv2d(3, 64, kernel_size=(5, 5), stride=(1, 1), padding=(2, 2))\n",
              "    (1): ReLU(inplace=True)\n",
              "    (2): MaxPool2d(kernel_size=2, stride=2, padding=0, dilation=1, ceil_mode=False)\n",
              "    (3): Conv2d(64, 128, kernel_size=(3, 3), stride=(1, 1), padding=(1, 1))\n",
              "    (4): ReLU(inplace=True)\n",
              "    (5): MaxPool2d(kernel_size=2, stride=2, padding=0, dilation=1, ceil_mode=False)\n",
              "    (6): Conv2d(128, 256, kernel_size=(3, 3), stride=(1, 1), padding=(1, 1))\n",
              "    (7): ReLU(inplace=True)\n",
              "  )\n",
              "  (classifier): Linear(in_features=262144, out_features=2, bias=True)\n",
              ")"
            ]
          },
          "metadata": {
            "tags": []
          },
          "execution_count": 20
        }
      ]
    },
    {
      "cell_type": "code",
      "metadata": {
        "id": "4PUsBNl6n52f",
        "colab_type": "code",
        "colab": {}
      },
      "source": [
        "criterion = nn.CrossEntropyLoss()\n",
        "optimizer = optim.Adam(model.parameters(), lr=0.001)"
      ],
      "execution_count": 21,
      "outputs": []
    },
    {
      "cell_type": "code",
      "metadata": {
        "id": "HkyxBjeqo52h",
        "colab_type": "code",
        "colab": {
          "base_uri": "https://localhost:8080/",
          "height": 357
        },
        "outputId": "bacaed22-41b5-4611-e8a9-f242391a297e"
      },
      "source": [
        "num_epochs = 20\n",
        "losses = []\n",
        "accs = []\n",
        "val_losses = []\n",
        "val_accs = []\n",
        "for epoch in range(num_epochs):\n",
        "    running_loss = 0.0\n",
        "    running_acc = 0.0\n",
        "    for imgs, labels in train_dataloader:\n",
        "        imgs = imgs.cuda()\n",
        "        labels = labels.cuda()\n",
        "        optimizer.zero_grad()\n",
        "        output = model(imgs)\n",
        "        loss = criterion(output, labels)\n",
        "        loss.backward()\n",
        "        running_loss += loss.item()\n",
        "        pred = torch.argmax(output, dim=1)\n",
        "        running_acc += torch.mean(pred.eq(labels).float())\n",
        "        optimizer.step()\n",
        "    running_loss /= len(train_dataloader)\n",
        "    running_acc /= len(train_dataloader)\n",
        "    losses.append(running_loss)\n",
        "    accs.append(running_acc)\n",
        "    #validation loop\n",
        "    val_running_loss = 0.0\n",
        "    val_running_acc = 0.0\n",
        "    for val_imgs, val_labels in validation_dataloader:\n",
        "        val_imgs = val_imgs.cuda()\n",
        "        val_labels = val_labels.cuda()\n",
        "        val_output = model(val_imgs)\n",
        "        val_loss = criterion(val_output, val_labels)\n",
        "        val_running_loss += val_loss.item()\n",
        "        val_pred = torch.argmax(val_output, dim=1)\n",
        "        val_running_acc += torch.mean(val_pred.eq(val_labels).float())\n",
        "    val_running_loss /= len(validation_dataloader)\n",
        "    val_running_acc /= len(validation_dataloader)\n",
        "    val_losses.append(val_running_loss)\n",
        "    val_accs.append(val_running_acc)\n",
        "    print(\"epoch: {}, loss: {}, acc: {}, val loss: {}, val acc: {}\".format(epoch, running_loss, running_acc, val_running_loss, val_running_acc))\n",
        "\n"
      ],
      "execution_count": 22,
      "outputs": [
        {
          "output_type": "stream",
          "text": [
            "epoch: 0, loss: 1.174688819050789, acc: 0.5325000286102295, val loss: 0.7140540182590485, val acc: 0.5600000023841858\n",
            "epoch: 1, loss: 0.6607611089944839, acc: 0.6059999465942383, val loss: 0.7337845414876938, val acc: 0.5349999666213989\n",
            "epoch: 2, loss: 0.6411451756954193, acc: 0.6190000176429749, val loss: 0.710767537355423, val acc: 0.5849999785423279\n",
            "epoch: 3, loss: 0.5938941389322281, acc: 0.6879999041557312, val loss: 0.7682307362556458, val acc: 0.5450000166893005\n",
            "epoch: 4, loss: 0.5823693186044693, acc: 0.700999915599823, val loss: 0.6939066648483276, val acc: 0.5550000071525574\n",
            "epoch: 5, loss: 0.5608395934104919, acc: 0.7179999947547913, val loss: 0.7104206681251526, val acc: 0.574999988079071\n",
            "epoch: 6, loss: 0.5522994250059128, acc: 0.7084999084472656, val loss: 0.669458419084549, val acc: 0.6150000095367432\n",
            "epoch: 7, loss: 0.5513738125562668, acc: 0.7070000171661377, val loss: 0.7355671525001526, val acc: 0.5999999642372131\n",
            "epoch: 8, loss: 0.5399425953626633, acc: 0.7215000987052917, val loss: 0.7301036417484283, val acc: 0.5699999928474426\n",
            "epoch: 9, loss: 0.5131504312157631, acc: 0.7414999008178711, val loss: 0.6681807339191437, val acc: 0.6649999618530273\n",
            "epoch: 10, loss: 0.510309699177742, acc: 0.7569999694824219, val loss: 0.7493326663970947, val acc: 0.6100000143051147\n",
            "epoch: 11, loss: 0.4893472597002983, acc: 0.7620000243186951, val loss: 0.6730299890041351, val acc: 0.6299999952316284\n",
            "epoch: 12, loss: 0.4828178256750107, acc: 0.766499936580658, val loss: 0.6545376479625702, val acc: 0.6549999713897705\n",
            "epoch: 13, loss: 0.48110799491405487, acc: 0.765999972820282, val loss: 0.7941621243953705, val acc: 0.6100000143051147\n",
            "epoch: 14, loss: 0.4778898224234581, acc: 0.7750000357627869, val loss: 0.639865979552269, val acc: 0.6349999904632568\n",
            "epoch: 15, loss: 0.4617060273885727, acc: 0.7800000309944153, val loss: 0.5935697853565216, val acc: 0.7049999833106995\n",
            "epoch: 16, loss: 0.4630347967147827, acc: 0.7764999866485596, val loss: 0.8029385507106781, val acc: 0.5949999690055847\n",
            "epoch: 17, loss: 0.46144781112670896, acc: 0.7769999504089355, val loss: 0.745743989944458, val acc: 0.6399999856948853\n",
            "epoch: 18, loss: 0.4305282264947891, acc: 0.8024999499320984, val loss: 0.6798344254493713, val acc: 0.699999988079071\n",
            "epoch: 19, loss: 0.43408872932195663, acc: 0.7920000553131104, val loss: 0.6456142067909241, val acc: 0.6949999332427979\n"
          ],
          "name": "stdout"
        }
      ]
    },
    {
      "cell_type": "code",
      "metadata": {
        "id": "GZd7msGxrfyk",
        "colab_type": "code",
        "colab": {
          "base_uri": "https://localhost:8080/",
          "height": 283
        },
        "outputId": "c9d0ee42-9b51-4f19-f0fe-61b2c433fa9f"
      },
      "source": [
        "plt.plot(losses, label=\"train loss\")\n",
        "plt.plot(val_losses, label=\"validation loss\")\n",
        "plt.legend()"
      ],
      "execution_count": 23,
      "outputs": [
        {
          "output_type": "execute_result",
          "data": {
            "text/plain": [
              "<matplotlib.legend.Legend at 0x7f0594ae1780>"
            ]
          },
          "metadata": {
            "tags": []
          },
          "execution_count": 23
        },
        {
          "output_type": "display_data",
          "data": {
            "image/png": "[encoded data removed]",
            "text/plain": [
              "<Figure size 432x288 with 1 Axes>"
            ]
          },
          "metadata": {
            "tags": [],
            "needs_background": "light"
          }
        }
      ]
    },
    {
      "cell_type": "code",
      "metadata": {
        "id": "n7w5pNtGn6sc",
        "colab_type": "code",
        "colab": {
          "base_uri": "https://localhost:8080/",
          "height": 282
        },
        "outputId": "bef7c5d9-c34d-4bb5-a875-a2720289ebf7"
      },
      "source": [
        "plt.plot(accs, label=\"train acc\")\n",
        "plt.plot(val_accs, label=\"validation acc\")\n",
        "plt.legend()"
      ],
      "execution_count": 24,
      "outputs": [
        {
          "output_type": "execute_result",
          "data": {
            "text/plain": [
              "<matplotlib.legend.Legend at 0x7f0594a77828>"
            ]
          },
          "metadata": {
            "tags": []
          },
          "execution_count": 24
        },
        {
          "output_type": "display_data",
          "data": {
            "image/png": "[encoded data removed]",
            "text/plain": [
              "<Figure size 432x288 with 1 Axes>"
            ]
          },
          "metadata": {
            "tags": [],
            "needs_background": "light"
          }
        }
      ]
    }
  ]
}